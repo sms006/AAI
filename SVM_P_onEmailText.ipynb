{
 "cells": [
  {
   "cell_type": "markdown",
   "metadata": {},
   "source": [
    "# Applied Aritificial Intelligence\n",
    "School of Information, Media and Design\n",
    "Project Work: Comparison of different ML algorithms on same data set\n",
    "#### Sanketh Mysore Shivakumar\n",
    "#### 11010385"
   ]
  },
  {
   "cell_type": "markdown",
   "metadata": {},
   "source": [
    "Context and Purpose \n",
    "\n",
    "This project is comprised of trainings, predictions and accuracies of various simple machine learning algorithms on data sets obtained from: https://github.com/udacity/ud120-projects.\n",
    "The motivation to work on this dataset and compare various algos rather than performing one main project is the following:\n",
    "•\tUnderstanding of ML fundamentals\n",
    "•\tPractically experiencing the Pros and Cons of each Algo.\n",
    "•\tHaving a more traditional approach to learning\n"
   ]
  },
  {
   "cell_type": "markdown",
   "metadata": {},
   "source": [
    "# Naive Bayes\n",
    "#### DataSet:\n",
    "\n",
    "Over 7000 email texts from two people labelled 1 and 0 for Chris and Sara respectively. \n",
    "Objective: Given an email text, the classifier should determine whether the email was authored by Chris or Sara using Gaussian Naïve Bayes Algorithm\n",
    "\n",
    "#### Time Accuracy and Performance:"
   ]
  },
  {
   "cell_type": "code",
   "execution_count": 6,
   "metadata": {},
   "outputs": [
    {
     "name": "stdout",
     "output_type": "stream",
     "text": [
      "no. of Chris training emails: 7936\n",
      "no. of Sara training emails: 7884\n",
      "training time: 2.468 s\n",
      "predicting time: 0.428 s\n",
      "Classification accuracy:  0.9732650739476678\n"
     ]
    }
   ],
   "source": [
    "import sys\n",
    "from time import time\n",
    "sys.path.append(\"../tools/\")\n",
    "from email_preprocess import preprocess\n",
    "\n",
    "\n",
    "\n",
    "features_train, features_test, labels_train, labels_test = preprocess()\n",
    "#features_train = features_train[:len(features_train)/10]\n",
    "#labels_train = labels_train[:len(labels_train)/10]\n",
    "from sklearn.naive_bayes import GaussianNB\n",
    "clf = GaussianNB()\n",
    "t0 = time()\n",
    "clf.fit(features_train, labels_train)\n",
    "print \"training time:\", round(time()-t0, 3), \"s\"\n",
    "t1 = time()\n",
    "clf.predict(features_test)\n",
    "print \"predicting time:\", round(time()-t1, 3), \"s\"\n",
    "print \"Classification accuracy: \",clf.score(features_test, labels_test)\n",
    "\n",
    "\n"
   ]
  },
  {
   "cell_type": "markdown",
   "metadata": {},
   "source": [
    "# Support Vector Machine\n",
    "#### DataSet:\n",
    "\n",
    "The same dataset is used.\n",
    "\n",
    "Objective: Given an email text, the classifier should determine whether the email was authored by Chris or Sara using SVM\n",
    "\n",
    "#### Time Accuracy and Performance:"
   ]
  },
  {
   "cell_type": "code",
   "execution_count": 5,
   "metadata": {},
   "outputs": [
    {
     "name": "stdout",
     "output_type": "stream",
     "text": [
      "no. of Chris training emails: 7936\n",
      "no. of Sara training emails: 7884\n",
      "training time: 269.458 s\n",
      "predicting time: 27.684 s\n",
      "Classification accuracy:  0.9908987485779295\n"
     ]
    }
   ],
   "source": [
    "import sys\n",
    "from time import time\n",
    "sys.path.append(\"../tools/\")\n",
    "from email_preprocess import preprocess\n",
    "\n",
    "features_train, features_test, labels_train, labels_test = preprocess()\n",
    "\n",
    "#features_train = features_train[:len(features_train)/10]\n",
    "#labels_train = labels_train[:len(labels_train)/10]\n",
    "from sklearn import svm\n",
    "clf = svm.SVC(kernel='rbf', C=10000.)\n",
    "t0 = time()\n",
    "clf.fit(features_train,labels_train)\n",
    "print \"training time:\", round(time()-t0, 3), \"s\"\n",
    "t1 = time()\n",
    "clf.predict(features_test)\n",
    "print \"predicting time:\", round(time()-t1, 3), \"s\"\n",
    "print \"Classification accuracy: \", clf.score(features_test,labels_test)"
   ]
  },
  {
   "cell_type": "markdown",
   "metadata": {},
   "source": [
    "#### Here we observe that the SVM accuracy is higher than that of Naive Bayes, making it better for text classification. (An optimal acuracy was reached when the kernel used was rbf and C value = 10000.) It seems to have taken 60 times more time for predicting as compared to GaussianNB which is a huge drawback"
   ]
  },
  {
   "cell_type": "markdown",
   "metadata": {},
   "source": [
    "# Decision Tree Classifier\n",
    "\n",
    "#### DataSet:\n",
    "The same dataset is used.\n",
    "\n",
    "Objective: Given an email text, the classifier should determine whether the email was authored by Chris or Sara using a DTC\n",
    "\n",
    "#### Time Accuracy and Performance"
   ]
  },
  {
   "cell_type": "code",
   "execution_count": 7,
   "metadata": {
    "scrolled": false
   },
   "outputs": [
    {
     "name": "stdout",
     "output_type": "stream",
     "text": [
      "no. of Chris training emails: 7936\n",
      "no. of Sara training emails: 7884\n",
      "training time: 138.329 s\n",
      "predicting time: 0.069 s\n",
      "Classification accuracy:  0.9789533560864618\n"
     ]
    }
   ],
   "source": [
    "features_train, features_test, labels_train, labels_test = preprocess()\n",
    "\n",
    "#features_train = features_train[:len(features_train)/10]\n",
    "#labels_train = labels_train[:len(labels_train)/10]\n",
    "from sklearn import tree\n",
    "clf = tree.DecisionTreeClassifier(min_samples_split=40)\n",
    "t0 = time()\n",
    "clf.fit(features_train,labels_train)\n",
    "print \"training time:\", round(time()-t0, 3), \"s\"\n",
    "t1 = time()\n",
    "clf.predict(features_test)\n",
    "print \"predicting time:\", round(time()-t1, 3), \"s\"\n",
    "print \"Classification accuracy: \", clf.score(features_test,labels_test)"
   ]
  },
  {
   "cell_type": "markdown",
   "metadata": {},
   "source": [
    "#### Here we observe that the Decision tree accuracy is is in between SVM and Naive Bayes for this use case.  We also see that the prediction time is 22000% better than SVM"
   ]
  },
  {
   "cell_type": "markdown",
   "metadata": {},
   "source": [
    "# Multi Layer Perceptron\n",
    "\n",
    "#### DataSet:\n",
    "The same dataset is used.\n",
    "\n",
    "Objective: Given an email text, the classifier should determine whether the email was authored by Chris or Sara using a DTC\n",
    "\n",
    "#### Time Accuracy and Performance"
   ]
  },
  {
   "cell_type": "code",
   "execution_count": 8,
   "metadata": {},
   "outputs": [
    {
     "name": "stdout",
     "output_type": "stream",
     "text": [
      "no. of Chris training emails: 7936\n",
      "no. of Sara training emails: 7884\n",
      "training time: 0.991 s\n",
      "predicting time: 0.038 s\n",
      "Classification accuracy:  0.4920364050056883\n"
     ]
    }
   ],
   "source": [
    "features_train, features_test, labels_train, labels_test = preprocess()\n",
    "\n",
    "#features_train = features_train[:len(features_train)/10]\n",
    "#labels_train = labels_train[:len(labels_train)/10]\n",
    "from sklearn.neural_network import MLPClassifier\n",
    "clf = MLPClassifier(solver='lbfgs', alpha=1e-5, hidden_layer_sizes=(5, 2), random_state=1)\n",
    "t0 = time()\n",
    "clf.fit(features_train,labels_train)\n",
    "print \"training time:\", round(time()-t0, 3), \"s\"\n",
    "t1 = time()\n",
    "clf.predict(features_test)\n",
    "print \"predicting time:\", round(time()-t1, 3), \"s\"\n",
    "print \"Classification accuracy: \", clf.score(features_test,labels_test)"
   ]
  },
  {
   "cell_type": "markdown",
   "metadata": {},
   "source": [
    "#### Here we observe that the MLP accuracy is much lower, making GaussianNB or SVM better for text classification. "
   ]
  },
  {
   "cell_type": "markdown",
   "metadata": {},
   "source": [
    "# K nearest neighbours\n",
    "#### DataSet:\n",
    "\n",
    "The same dataset is used.\n",
    "\n",
    "Objective: Given an email text, the classifier should determine whether the email was authored by Chris or Sara using a DTC\n",
    "\n",
    "#### Time Accuracy and Performance"
   ]
  },
  {
   "cell_type": "code",
   "execution_count": 2,
   "metadata": {},
   "outputs": [
    {
     "name": "stderr",
     "output_type": "stream",
     "text": [
      "C:\\Users\\d074223\\AppData\\Local\\Continuum\\anaconda2\\lib\\site-packages\\scipy\\stats\\stats.py:1713: FutureWarning: Using a non-tuple sequence for multidimensional indexing is deprecated; use `arr[tuple(seq)]` instead of `arr[seq]`. In the future this will be interpreted as an array index, `arr[np.array(seq)]`, which will result either in an error or a different result.\n",
      "  return np.add.reduce(sorted[indexer] * weights, axis=axis) / sumval\n"
     ]
    },
    {
     "name": "stdout",
     "output_type": "stream",
     "text": [
      "no. of Chris training emails: 7936\n",
      "no. of Sara training emails: 7884\n",
      "training time: 8.421 s\n",
      "predicting time: 310.491 s\n",
      "Classification accuracy:  0.8811149032992036\n"
     ]
    }
   ],
   "source": [
    "import sys\n",
    "from time import time\n",
    "sys.path.append(\"../tools/\")\n",
    "from email_preprocess import preprocess\n",
    "\n",
    "features_train, features_test, labels_train, labels_test = preprocess()\n",
    "\n",
    "from sklearn.neighbors import KNeighborsClassifier\n",
    "clf = KNeighborsClassifier(n_neighbors=3)\n",
    "t0 = time()\n",
    "clf.fit(features_train,labels_train)\n",
    "print \"training time:\", round(time()-t0, 3), \"s\"\n",
    "t1 = time()\n",
    "clf.predict(features_test)\n",
    "print \"predicting time:\", round(time()-t1, 3), \"s\"\n",
    "print \"Classification accuracy: \", clf.score(features_test,labels_test)"
   ]
  },
  {
   "cell_type": "markdown",
   "metadata": {
    "scrolled": true
   },
   "source": [
    "#### Here we observe that the K nearest neighbour algo accuracy is much lower, making GaussianNB or SVM better for text classification. The time taken also seems to be quite high hence ruling it out as an option"
   ]
  },
  {
   "cell_type": "markdown",
   "metadata": {},
   "source": [
    "## Algorithm Comparison Table"
   ]
  },
  {
   "cell_type": "markdown",
   "metadata": {},
   "source": [
    "|Algorithm|Training time|Predicting time|Accuracy|\n",
    "|---------|-------------|---------------|--------|\n",
    "|Naive Bayes|2.468s|0.428s|97.3265%|\n",
    "|SVM|269.458s|27.6s|99.0898%|\n",
    "|Decision Tree Classifier|138.329s|0.069s|97.8953%|\n",
    "|Multilayer Perceptron|0.991s|0.038s|49.2036%|\n",
    "|KNN|8.421s|310.491s|88.1114%|"
   ]
  },
  {
   "cell_type": "markdown",
   "metadata": {},
   "source": [
    "## Data Visualization\n",
    "\n",
    "Since the features was a set of probabilites of words as phrases for each person, one feature was not a function of another. Hence it was not possible to show the data and in terms of a scatter plot with one variable as a function of another.\n",
    "\n",
    "Below I have tried to show the data points of 2 features. "
   ]
  },
  {
   "cell_type": "code",
   "execution_count": 4,
   "metadata": {},
   "outputs": [
    {
     "name": "stdout",
     "output_type": "stream",
     "text": [
      "no. of Chris training emails: 7936\n",
      "no. of Sara training emails: 7884\n"
     ]
    },
    {
     "data": {
      "text/plain": [
       "<matplotlib.collections.PathCollection at 0xf9dcbe0>"
      ]
     },
     "execution_count": 4,
     "metadata": {},
     "output_type": "execute_result"
    },
    {
     "data": {
      "image/png": "[encoded data removed]",
      "text/plain": [
       "<Figure size 432x288 with 1 Axes>"
      ]
     },
     "metadata": {
      "needs_background": "light"
     },
     "output_type": "display_data"
    }
   ],
   "source": [
    "import sys\n",
    "from time import time\n",
    "sys.path.append(\"../tools/\")\n",
    "from email_preprocess import preprocess\n",
    "\n",
    "\n",
    "features_train, features_test, labels_train, labels_test = preprocess()\n",
    "#features_train = features_train[:len(features_train)/10]\n",
    "#labels_train = labels_train[:len(labels_train)/10]\n",
    "import matplotlib.pyplot as plt\n",
    "\n",
    "feature1 = [] \n",
    "feature2 = [] \n",
    "for i in range(len(features_train)):\n",
    "    feature1.append(features_train[i][24])\n",
    "    feature2.append(features_train[i][65])\n",
    "\n",
    "    \n",
    "plt.scatter(feature1,feature2)"
   ]
  },
  {
   "cell_type": "markdown",
   "metadata": {},
   "source": [
    "### source code of supporting function\n",
    "\n",
    "The code which takes care of loading the data from a .plk file and dividing the testing and traning data can be found in this file email_preprocess.py"
   ]
  }
 ],
 "metadata": {
  "kernelspec": {
   "display_name": "Python 2",
   "language": "python",
   "name": "python2"
  },
  "language_info": {
   "codemirror_mode": {
    "name": "ipython",
    "version": 2
   },
   "file_extension": ".py",
   "mimetype": "text/x-python",
   "name": "python",
   "nbconvert_exporter": "python",
   "pygments_lexer": "ipython2",
   "version": "2.7.15"
  }
 },
 "nbformat": 4,
 "nbformat_minor": 2
}
